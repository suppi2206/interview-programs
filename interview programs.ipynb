{
 "cells": [
  {
   "cell_type": "code",
   "execution_count": null,
   "id": "42b140b2",
   "metadata": {},
   "outputs": [],
   "source": [
    "#datatypes\n"
   ]
  },
  {
   "cell_type": "code",
   "execution_count": 4,
   "id": "74476e2b",
   "metadata": {},
   "outputs": [
    {
     "name": "stdout",
     "output_type": "stream",
     "text": [
      "11\n"
     ]
    }
   ],
   "source": [
    "# calculate length of string\n",
    "def string_length(str1):\n",
    "    count = 0\n",
    "    for char in str1:\n",
    "        count += 1\n",
    "    return count\n",
    "print(string_length('priya reddy'))\n"
   ]
  },
  {
   "cell_type": "code",
   "execution_count": 5,
   "id": "e2f0a3c6",
   "metadata": {},
   "outputs": [
    {
     "name": "stdout",
     "output_type": "stream",
     "text": [
      "ython\n",
      "Pyton\n",
      "Pytho\n"
     ]
    }
   ],
   "source": [
    "def remove_char(str, n):\n",
    "      first_part = str[:n] \n",
    "      last_part = str[n+1:]\n",
    "      return first_part + last_part\n",
    "print(remove_char('Python', 0))\n",
    "print(remove_char('Python', 3))\n",
    "print(remove_char('Python', 5))\n",
    "\n"
   ]
  },
  {
   "cell_type": "code",
   "execution_count": null,
   "id": "38cc51ca",
   "metadata": {},
   "outputs": [],
   "source": [
    "# lower & upper case\n",
    "user_input = input(\"What's your favourite language? \")\n",
    "print(\"My favourite language is \", user_input.upper())\n",
    "print(\"My favourite language is \", user_input.lower())\n"
   ]
  },
  {
   "cell_type": "code",
   "execution_count": 6,
   "id": "6f8c166c",
   "metadata": {},
   "outputs": [
    {
     "name": "stdout",
     "output_type": "stream",
     "text": [
      "ace\n",
      "pto\n"
     ]
    }
   ],
   "source": [
    "# odd values using string\n",
    "def odd_values_string(str):\n",
    "  result = \"\" \n",
    "  for i in range(len(str)):\n",
    "    if i % 2 == 0:\n",
    "      result = result + str[i]\n",
    "  return result\n",
    "\n",
    "print(odd_values_string('abcdef'))\n",
    "print(odd_values_string('python'))"
   ]
  },
  {
   "cell_type": "code",
   "execution_count": null,
   "id": "43fdb610",
   "metadata": {},
   "outputs": [],
   "source": [
    "#operators"
   ]
  },
  {
   "cell_type": "code",
   "execution_count": 1,
   "id": "0cb6409f",
   "metadata": {},
   "outputs": [
    {
     "name": "stdout",
     "output_type": "stream",
     "text": [
      "a+b: 80\n",
      "a-b: 20\n",
      "a*b: 1500\n",
      "a/b: 1.6666666666666667\n",
      "a//b: 1\n",
      "a**b: 931322574615478515625000000000000000000000000000000\n",
      "a%b: 20\n"
     ]
    }
   ],
   "source": [
    "\n",
    "a=50\n",
    "b=30\n",
    "print(\"a+b:\",a+b)\n",
    "print(\"a-b:\",a-b)\n",
    "print(\"a*b:\",a*b)\n",
    "print(\"a/b:\",a/b)\n",
    "print(\"a//b:\",a//b)\n",
    "print(\"a**b:\",a**b)\n",
    "print(\"a%b:\",a%b)\n"
   ]
  },
  {
   "cell_type": "code",
   "execution_count": 2,
   "id": "548e5f0d",
   "metadata": {},
   "outputs": [
    {
     "name": "stdout",
     "output_type": "stream",
     "text": [
      "enter the value of radius:2\n",
      "the area of circle= 12.568\n"
     ]
    }
   ],
   "source": [
    "# area of circle\n",
    "pi=3.142\n",
    "r=float(input(\"enter the value of radius:\"))\n",
    "a=pi*r*r\n",
    "print(\"the area of circle=\",a)\n"
   ]
  },
  {
   "cell_type": "code",
   "execution_count": 3,
   "id": "43d173b1",
   "metadata": {},
   "outputs": [
    {
     "name": "stdout",
     "output_type": "stream",
     "text": [
      "enter a side:5\n",
      "the perimeter of side 20\n"
     ]
    }
   ],
   "source": [
    "#perimeter\n",
    "side=int(input(\"enter a side:\"))\n",
    "perimeter=4*side\n",
    "print(\"the perimeter of side\",perimeter)"
   ]
  },
  {
   "cell_type": "code",
   "execution_count": 4,
   "id": "1151492f",
   "metadata": {},
   "outputs": [
    {
     "name": "stdout",
     "output_type": "stream",
     "text": [
      "enter the principle amount:10000\n",
      "enter the rate:2\n",
      "enter the time:3\n",
      "600.0\n"
     ]
    }
   ],
   "source": [
    "#simple interset\n",
    "p=float(input(\"enter the principle amount:\"))\n",
    "r=float(input(\"enter the rate:\"))\n",
    "t=float(input(\"enter the time:\"))\n",
    "simple_interest=(p*t*r)/100\n",
    "print(simple_interest)\n",
    "                "
   ]
  },
  {
   "cell_type": "code",
   "execution_count": null,
   "id": "3028db60",
   "metadata": {},
   "outputs": [],
   "source": [
    "#conditinal statement"
   ]
  },
  {
   "cell_type": "code",
   "execution_count": 5,
   "id": "f00130bd",
   "metadata": {},
   "outputs": [
    {
     "name": "stdout",
     "output_type": "stream",
     "text": [
      "enter the year:2020\n",
      "2020 is leap year\n"
     ]
    }
   ],
   "source": [
    "#leap year or not\n",
    "year=int(input(\"enter the year:\"))\n",
    "if(year%4)==0:\n",
    "    if(year%100)==0:\n",
    "        if(year%400)==0:\n",
    "            print(year,\"is a leap year\")\n",
    "        else:\n",
    "                print(year,\"is not a leap year\")\n",
    "    else:  \n",
    "        print(year,\"is leap year\")\n",
    "else:\n",
    "        print(year,\"is not leap year\")\n",
    "        "
   ]
  },
  {
   "cell_type": "code",
   "execution_count": 6,
   "id": "127b4365",
   "metadata": {},
   "outputs": [
    {
     "name": "stdout",
     "output_type": "stream",
     "text": [
      "enter the marks:85\n",
      "grade is=B\n"
     ]
    }
   ],
   "source": [
    "#marks grade\n",
    "mar=int(input(\"enter the marks:\"))\n",
    "if mar>=90:\n",
    "    print(\"grade is=A\")\n",
    "elif mar>80 and mar<=90:\n",
    "    print(\"grade is=B\")\n",
    "elif mar>=60 and mar<=80:\n",
    "    print(\"grade is =C\")\n",
    "elif mar<60:\n",
    "    print(\"grade is =D\")\n",
    "else:\n",
    "    print(\"D\")\n",
    "    "
   ]
  },
  {
   "cell_type": "code",
   "execution_count": 7,
   "id": "8217ac90",
   "metadata": {},
   "outputs": [
    {
     "name": "stdout",
     "output_type": "stream",
     "text": [
      "enter the a value:30\n",
      "enter the b value:50\n",
      "enter the c value:20\n",
      "b is biggest number 50\n"
     ]
    }
   ],
   "source": [
    "#biggest number\n",
    "a=int(input(\"enter the a value:\"))\n",
    "b=int(input(\"enter the b value:\"))\n",
    "c=int(input(\"enter the c value:\"))\n",
    "if a>b &a>c:\n",
    "    print(\"a is biggest number\",a)\n",
    "elif b>c:\n",
    "    print(\"b is biggest number\",b)\n",
    "else:\n",
    "    print(\"c is biggest number\",c)\n",
    "    "
   ]
  },
  {
   "cell_type": "code",
   "execution_count": 11,
   "id": "f7cd37a0",
   "metadata": {},
   "outputs": [
    {
     "name": "stdout",
     "output_type": "stream",
     "text": [
      "enter the charecters:a\n",
      "vowel\n"
     ]
    }
   ],
   "source": [
    "# vowels or not\n",
    "list=['a','e','i','o','u']\n",
    "a=input(\"enter the charecters:\")\n",
    "if (a in list):\n",
    "    print(\"vowel\")\n",
    "else:\n",
    "    print(\"not vowel\")"
   ]
  },
  {
   "cell_type": "code",
   "execution_count": null,
   "id": "8e9ad4f5",
   "metadata": {},
   "outputs": [],
   "source": [
    "#looping statement\n"
   ]
  },
  {
   "cell_type": "code",
   "execution_count": 8,
   "id": "5ba79ab9",
   "metadata": {},
   "outputs": [
    {
     "name": "stdout",
     "output_type": "stream",
     "text": [
      "enter the fibbonacci number5\n",
      "0\n",
      "1\n",
      "1\n",
      "2\n",
      "3\n"
     ]
    }
   ],
   "source": [
    "# fibbonacci series\n",
    "a=int(input(\"enter the fibbonacci number\"))\n",
    "n=0\n",
    "n1=1\n",
    "s=0\n",
    "if a<0:\n",
    "    print(\"no out\")\n",
    "else:\n",
    "    for i in range(a):\n",
    "        print(s)\n",
    "        n=n1\n",
    "        n1=s\n",
    "        s=n+n1"
   ]
  },
  {
   "cell_type": "code",
   "execution_count": 9,
   "id": "5f80a128",
   "metadata": {},
   "outputs": [
    {
     "name": "stdout",
     "output_type": "stream",
     "text": [
      "enter the number153\n",
      "amstrong number\n"
     ]
    }
   ],
   "source": [
    "# amstrong or not\n",
    "a=int(input(\"enter the number\"))\n",
    "b=0\n",
    "n=a\n",
    "while n>0:\n",
    "    d=n%10\n",
    "    b+=d**3\n",
    "    n=n//10\n",
    "if a==b:\n",
    "    print(\"amstrong number\")\n",
    "else:\n",
    "    print(\"not amstrong number\")\n",
    "    "
   ]
  },
  {
   "cell_type": "code",
   "execution_count": 10,
   "id": "1d3e7cc7",
   "metadata": {},
   "outputs": [
    {
     "name": "stdout",
     "output_type": "stream",
     "text": [
      "enter the number135\n",
      "not palindrome 135\n",
      "not palindrome 135\n",
      "not palindrome 135\n"
     ]
    }
   ],
   "source": [
    "#palindrome or not\n",
    "i=int(input(\"enter the number\"))\n",
    "rev=0\n",
    "temp=i\n",
    "while i>0:\n",
    "    rev=(rev*10)+i%10\n",
    "    i=i//10\n",
    "    if (temp==rev):\n",
    "        print(\"palindrome\",temp)\n",
    "    else:\n",
    "        print(\"not palindrome\",temp)"
   ]
  },
  {
   "cell_type": "code",
   "execution_count": 13,
   "id": "e6a3b312",
   "metadata": {},
   "outputs": [
    {
     "name": "stdout",
     "output_type": "stream",
     "text": [
      "enter the number342\n",
      "reverse number 243\n"
     ]
    }
   ],
   "source": [
    "#reverse number\n",
    "a=int(input(\"enter the number\"))\n",
    "rev=0\n",
    "x=a\n",
    "while x>0:\n",
    "    r=x%10\n",
    "    rev=rev*10+r\n",
    "    x=x//10\n",
    "print(\"reverse number\",rev)\n",
    "    "
   ]
  },
  {
   "cell_type": "code",
   "execution_count": 1,
   "id": "0d51b76f",
   "metadata": {},
   "outputs": [
    {
     "name": "stdout",
     "output_type": "stream",
     "text": [
      "False\n"
     ]
    }
   ],
   "source": [
    "#functions\n",
    "#Prime or not\n",
    "def test_prime(n):\n",
    "    if (n==1):\n",
    "        return False\n",
    "    elif (n==2):\n",
    "        return True;\n",
    "    else:\n",
    "        for x in range(2,n):\n",
    "            if(n % x==0):\n",
    "                return False\n",
    "        return True             \n",
    "print(test_prime(9))\n"
   ]
  },
  {
   "cell_type": "code",
   "execution_count": 2,
   "id": "28395ef2",
   "metadata": {},
   "outputs": [
    {
     "name": "stdout",
     "output_type": "stream",
     "text": [
      "dcba4321\n"
     ]
    }
   ],
   "source": [
    "# reverse_string\n",
    "def string_reverse(str1):\n",
    "\n",
    "    rstr1 = ''\n",
    "    index = len(str1)\n",
    "    while index > 0:\n",
    "        rstr1 += str1[ index - 1 ]\n",
    "        index = index - 1\n",
    "    return rstr1\n",
    "print(string_reverse('1234abcd'))"
   ]
  },
  {
   "cell_type": "code",
   "execution_count": 3,
   "id": "8c75957e",
   "metadata": {},
   "outputs": [
    {
     "name": "stdout",
     "output_type": "stream",
     "text": [
      "-336\n"
     ]
    }
   ],
   "source": [
    "# multiply all the numbers in list\n",
    "def multiply(numbers):  \n",
    "    total = 1\n",
    "    for x in numbers:\n",
    "        total *= x  \n",
    "    return total  \n",
    "print(multiply((8, 2, 3, -1, 7)))"
   ]
  },
  {
   "cell_type": "code",
   "execution_count": 7,
   "id": "c048f0b0",
   "metadata": {},
   "outputs": [
    {
     "name": "stdout",
     "output_type": "stream",
     "text": [
      "6\n"
     ]
    }
   ],
   "source": [
    "# max of three numbers\n",
    "def max_of_two( x, y ):\n",
    "    if x > y:\n",
    "        return x\n",
    "    return y\n",
    "def max_of_three( x, y, z ):\n",
    "    return max_of_two( x, max_of_two( y, z ) )\n",
    "print(max_of_three(3, 6, -5))\n"
   ]
  },
  {
   "cell_type": "code",
   "execution_count": null,
   "id": "19e1c824",
   "metadata": {},
   "outputs": [],
   "source": []
  }
 ],
 "metadata": {
  "kernelspec": {
   "display_name": "Python 3 (ipykernel)",
   "language": "python",
   "name": "python3"
  },
  "language_info": {
   "codemirror_mode": {
    "name": "ipython",
    "version": 3
   },
   "file_extension": ".py",
   "mimetype": "text/x-python",
   "name": "python",
   "nbconvert_exporter": "python",
   "pygments_lexer": "ipython3",
   "version": "3.10.6"
  }
 },
 "nbformat": 4,
 "nbformat_minor": 5
}
